{
 "cells": [
  {
   "cell_type": "markdown",
   "metadata": {},
   "source": [
    "Project Goal"
   ]
  },
  {
   "cell_type": "markdown",
   "metadata": {},
   "source": [
    "This project analyzes the impact of social media engagement on Abercrombie & Fitch (ANF) sales by integrating data from multiple sources, including YouTube engagement metrics, Google search trends, and Abercrombie's sales data. The goal is to identify correlations between online activity and brand performance."
   ]
  },
  {
   "cell_type": "markdown",
   "metadata": {},
   "source": [
    "Data Sources\n",
    "\n"
   ]
  },
  {
   "cell_type": "markdown",
   "metadata": {},
   "source": [
    "Abercrombie Sales Data:\n",
    "   Extracted from Abercrombie & Fitch records\n",
    "   Contains historical sales records.\n",
    "\n",
    "YouTube Engagement Data: \n",
    "** Collected using the YouTube API.\n",
    "   Includes metrics such as views, likes, and comments related to Abercrombie.\n",
    "\n",
    "Google Trends Data:\n",
    "   Fetched from Google Trends.\n",
    "   Tracks search interest for \"Abercrombie\" worldwide over time."
   ]
  },
  {
   "cell_type": "markdown",
   "metadata": {},
   "source": [
    "Project Structure\n",
    "\n",
    "The project is structured into dataset-specific notebooks, where each notebook handles data fetching, cleaning, and analysis for a particular data source:\n",
    "\n",
    "1.Google Trends (google_trends.ipynb)\n",
    "\n",
    "\n",
    "Fetches Google Trends search interest data.\n",
    "\n",
    "Cleans and resamples the time series data.\n",
    "\n",
    "Performs initial exploratory analysis.\n",
    "\n",
    "\n",
    "2.YouTube Data (youtube.ipynb)\n",
    "\n",
    "\n",
    "Extracts YouTube engagement metrics.\n",
    "\n",
    "Cleans and structures the data.\n",
    "\n",
    "Identifies patterns in engagement.\n",
    "\n",
    "\n",
    "3.Abercrombie Sales Data (anf_data_cleaning.ipynb)\n",
    "\n",
    "\n",
    "Cleans and processes sales data.\n",
    "\n",
    "Adjusts time formats and removes inconsistencies.\n",
    "\n",
    "Analyzes historical sales trends.\n",
    "\n",
    "\n",
    "4.Data Merging (merging_data.ipynb)\n",
    "\n",
    "\n",
    "Combines datasets from Google Trends, YouTube, and Abercrombie sales.\n",
    "\n",
    "Aligns timestamps and ensures data consistency.\n",
    "\n",
    "4.Analysis (data_analysis.ipynb)\n",
    "\n",
    "Performs correlation analysis between variables.\n",
    "\n",
    "\n",
    "5.Visualizations  (visualizations.ipynb)\n",
    "\n",
    "\n",
    "Creates visual representations of trends.\n",
    "\n",
    "Generates graphs to compare sales and engagement.\n",
    "\n",
    "Apply machine learning models to predict sales trends.\n",
    "\n",
    "6.Key Findings & Insights\n",
    "\n",
    "Identified patterns between YouTube engagement and brand sales.\n",
    "Found trends that suggest social media presence impacts business performance.\n",
    "\n"
   ]
  },
  {
   "cell_type": "markdown",
   "metadata": {},
   "source": []
  }
 ],
 "metadata": {
  "language_info": {
   "name": "python"
  }
 },
 "nbformat": 4,
 "nbformat_minor": 2
}
