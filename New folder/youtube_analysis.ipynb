{
 "cells": [
  {
   "cell_type": "code",
   "execution_count": 50,
   "metadata": {},
   "outputs": [],
   "source": [
    "# Import required libraries\n",
    "import os\n",
    "from googleapiclient.discovery import build\n",
    "import pandas as pd\n",
    "\n"
   ]
  },
  {
   "cell_type": "code",
   "execution_count": 51,
   "metadata": {},
   "outputs": [],
   "source": [
    "# Retrieve YouTube API Key from environment variable\n",
    "API_KEY = os.getenv(\"you_tube_api\")  # Ensure you have set your environment variable\n",
    "\n",
    "# Set up YouTube API client\n",
    "youtube = build(\"youtube\", \"v3\", developerKey=API_KEY)\n",
    "\n",
    "# Define search queries focused on Abercrombie fashion content\n",
    "search_queries = [\n",
    "    \"Abercrombie & Fitch haul\", \"Abercrombie try-on\", \"Abercrombie jeans review\",\"curve love\",\"abercrombie\",\"Abercrombie\",\n",
    "    \"Abercrombie fall fashion\", \"Abercrombie winter outfits\", \"Abercrombie shopping haul\"\n",
    "]\n",
    "\n",
    "\n"
   ]
  },
  {
   "cell_type": "code",
   "execution_count": 52,
   "metadata": {},
   "outputs": [],
   "source": [
    "# Define keywords to EXCLUDE (CEO scandals, legal issues)\n",
    "exclude_keywords = [\"CEO\", \"scandal\", \"charged\", \"arrested\", \"indicted\", \"trafficking\", \"lawsuit\"]\n",
    "\n",
    "# Initialize an empty list to store video data\n",
    "video_data = []\n",
    "\n",
    "# Loop through each search query to fetch relevant videos\n",
    "for query in search_queries:\n",
    "    search_response = youtube.search().list(\n",
    "        q=query,\n",
    "        type=\"video\",\n",
    "        part=\"id,snippet\",\n",
    "        maxResults=100,\n",
    "        publishedAfter='2020-01-01T00:00:00Z',   # Add or update this line\n",
    "        publishedBefore='2025-01-01T00:00:00Z'  # Add or update this line\n",
    ").execute()\n",
    "    video_data.append(search_response)\n",
    "\n",
    "   "
   ]
  },
  {
   "cell_type": "code",
   "execution_count": 53,
   "metadata": {},
   "outputs": [
    {
     "ename": "TypeError",
     "evalue": "list indices must be integers or slices, not str",
     "output_type": "error",
     "traceback": [
      "\u001b[1;31m---------------------------------------------------------------------------\u001b[0m",
      "\u001b[1;31mTypeError\u001b[0m                                 Traceback (most recent call last)",
      "Cell \u001b[1;32mIn[53], line 23\u001b[0m\n\u001b[0;32m     20\u001b[0m     all_video_stat \u001b[38;5;241m+\u001b[39m\u001b[38;5;241m=\u001b[39m video_stats\n\u001b[0;32m     22\u001b[0m     \u001b[38;5;66;03m# Store only videos that do NOT contain exclusion words\u001b[39;00m\n\u001b[1;32m---> 23\u001b[0m \u001b[38;5;28;01mfor\u001b[39;00m video \u001b[38;5;129;01min\u001b[39;00m all_video_stat[\u001b[38;5;124m\"\u001b[39m\u001b[38;5;124mitems\u001b[39m\u001b[38;5;124m\"\u001b[39m]:\n\u001b[0;32m     24\u001b[0m         title \u001b[38;5;241m=\u001b[39m video[\u001b[38;5;124m\"\u001b[39m\u001b[38;5;124msnippet\u001b[39m\u001b[38;5;124m\"\u001b[39m][\u001b[38;5;124m\"\u001b[39m\u001b[38;5;124mtitle\u001b[39m\u001b[38;5;124m\"\u001b[39m]\n\u001b[0;32m     25\u001b[0m         \u001b[38;5;28;01mif\u001b[39;00m \u001b[38;5;129;01mnot\u001b[39;00m \u001b[38;5;28many\u001b[39m(excluded \u001b[38;5;129;01min\u001b[39;00m title\u001b[38;5;241m.\u001b[39mlower() \u001b[38;5;28;01mfor\u001b[39;00m excluded \u001b[38;5;129;01min\u001b[39;00m exclude_keywords):  \u001b[38;5;66;03m# Exclude irrelevant topics\u001b[39;00m\n",
      "\u001b[1;31mTypeError\u001b[0m: list indices must be integers or slices, not str"
     ]
    }
   ],
   "source": [
    "all_video_ids = []\n",
    "\n",
    "\n",
    "for search_response in video_data:\n",
    "      \n",
    "\n",
    "    # Extract video IDs\n",
    "    video_ids = [item[\"id\"][\"videoId\"] for item in search_response[\"items\"]]\n",
    "    all_video_ids += video_ids\n",
    "    # Fetch video statistics\n",
    "all_video_stat = []\n",
    "for i  in range(len(all_video_ids)//):\n",
    "    videos_subset = all_video_ids[i * 50:(i+1) * 50]\n",
    "\n",
    "    video_stats = youtube.videos().list(\n",
    "        part=\"snippet,statistics\",\n",
    "        id=\",\".join(videos_subset)\n",
    "    ).execute()\n",
    "\n",
    "    all_video_stat += video_stats\n",
    "\n",
    "    # Store only videos that do NOT contain exclusion words\n",
    "for video in all_video_stat[\"items\"]:\n",
    "        title = video[\"snippet\"][\"title\"]\n",
    "        if not any(excluded in title.lower() for excluded in exclude_keywords):  # Exclude irrelevant topics\n",
    "            video_data.append({\n",
    "                \"Title\": title,\n",
    "                \"Views\": int(video[\"statistics\"].get(\"viewCount\", 0)),\n",
    "                \"Likes\": int(video[\"statistics\"].get(\"likeCount\", 0)),\n",
    "                \"Comments\": int(video[\"statistics\"].get(\"commentCount\", 0)),\n",
    "                \"Published Date\": video[\"snippet\"][\"publishedAt\"],\n",
    "                \"Video ID\": video[\"id\"]\n",
    "            })\n"
   ]
  },
  {
   "cell_type": "code",
   "execution_count": 54,
   "metadata": {},
   "outputs": [
    {
     "data": {
      "text/plain": [
       "['kind',\n",
       " 'etag',\n",
       " 'items',\n",
       " 'pageInfo',\n",
       " 'kind',\n",
       " 'etag',\n",
       " 'items',\n",
       " 'pageInfo',\n",
       " 'kind',\n",
       " 'etag',\n",
       " 'items',\n",
       " 'pageInfo',\n",
       " 'kind',\n",
       " 'etag',\n",
       " 'items',\n",
       " 'pageInfo',\n",
       " 'kind',\n",
       " 'etag',\n",
       " 'items',\n",
       " 'pageInfo',\n",
       " 'kind',\n",
       " 'etag',\n",
       " 'items',\n",
       " 'pageInfo',\n",
       " 'kind',\n",
       " 'etag',\n",
       " 'items',\n",
       " 'pageInfo',\n",
       " 'kind',\n",
       " 'etag',\n",
       " 'items',\n",
       " 'pageInfo',\n",
       " 'kind',\n",
       " 'etag',\n",
       " 'items',\n",
       " 'pageInfo']"
      ]
     },
     "execution_count": 54,
     "metadata": {},
     "output_type": "execute_result"
    }
   ],
   "source": [
    "all_video_stat "
   ]
  },
  {
   "cell_type": "code",
   "execution_count": null,
   "metadata": {},
   "outputs": [
    {
     "name": "stdout",
     "output_type": "stream",
     "text": [
      "                          kind                         etag nextPageToken  \\\n",
      "0   youtube#searchListResponse  TIL5D25gWnRSyXBQj-FGjZbbMOM        CDIQAA   \n",
      "1   youtube#searchListResponse  lkxcKb8A0fZqRAjou5iOVTP00rI        CDIQAA   \n",
      "2   youtube#searchListResponse  h8ms541nAA0ynSxpn_yTVXzSsWI        CDIQAA   \n",
      "3   youtube#searchListResponse  RyBVrT3tzgwGe0NfgnW0-zrG1Gw        CDIQAA   \n",
      "4   youtube#searchListResponse  0fpxoglHxXOXVTyq_9BdcFVCkNo        CDIQAA   \n",
      "5   youtube#searchListResponse  iNX7bSIkHEN3XUfWm-ZSl0LRrBY        CDIQAA   \n",
      "6   youtube#searchListResponse  AMrYaQzF3yVm7Xw3FUC6pvkcHFA        CDIQAA   \n",
      "7   youtube#searchListResponse  67B5GyneCtMQAGBm2oPoZEqQI_I        CDIQAA   \n",
      "8   youtube#searchListResponse  zzf8NDSm465fJQyTY6oaxLKVm8s        CDIQAA   \n",
      "9                          NaN                          NaN           NaN   \n",
      "10                         NaN                          NaN           NaN   \n",
      "11                         NaN                          NaN           NaN   \n",
      "12                         NaN                          NaN           NaN   \n",
      "13                         NaN                          NaN           NaN   \n",
      "14                         NaN                          NaN           NaN   \n",
      "15                         NaN                          NaN           NaN   \n",
      "16                         NaN                          NaN           NaN   \n",
      "17                         NaN                          NaN           NaN   \n",
      "18                         NaN                          NaN           NaN   \n",
      "19                         NaN                          NaN           NaN   \n",
      "20                         NaN                          NaN           NaN   \n",
      "21                         NaN                          NaN           NaN   \n",
      "22                         NaN                          NaN           NaN   \n",
      "23                         NaN                          NaN           NaN   \n",
      "24                         NaN                          NaN           NaN   \n",
      "25                         NaN                          NaN           NaN   \n",
      "26                         NaN                          NaN           NaN   \n",
      "27                         NaN                          NaN           NaN   \n",
      "28                         NaN                          NaN           NaN   \n",
      "29                         NaN                          NaN           NaN   \n",
      "30                         NaN                          NaN           NaN   \n",
      "31                         NaN                          NaN           NaN   \n",
      "32                         NaN                          NaN           NaN   \n",
      "33                         NaN                          NaN           NaN   \n",
      "34                         NaN                          NaN           NaN   \n",
      "35                         NaN                          NaN           NaN   \n",
      "36                         NaN                          NaN           NaN   \n",
      "37                         NaN                          NaN           NaN   \n",
      "38                         NaN                          NaN           NaN   \n",
      "39                         NaN                          NaN           NaN   \n",
      "40                         NaN                          NaN           NaN   \n",
      "41                         NaN                          NaN           NaN   \n",
      "42                         NaN                          NaN           NaN   \n",
      "43                         NaN                          NaN           NaN   \n",
      "44                         NaN                          NaN           NaN   \n",
      "45                         NaN                          NaN           NaN   \n",
      "46                         NaN                          NaN           NaN   \n",
      "47                         NaN                          NaN           NaN   \n",
      "48                         NaN                          NaN           NaN   \n",
      "49                         NaN                          NaN           NaN   \n",
      "50                         NaN                          NaN           NaN   \n",
      "51                         NaN                          NaN           NaN   \n",
      "52                         NaN                          NaN           NaN   \n",
      "53                         NaN                          NaN           NaN   \n",
      "54                         NaN                          NaN           NaN   \n",
      "55                         NaN                          NaN           NaN   \n",
      "56                         NaN                          NaN           NaN   \n",
      "57                         NaN                          NaN           NaN   \n",
      "58                         NaN                          NaN           NaN   \n",
      "\n",
      "   regionCode                                         pageInfo  \\\n",
      "0          CA   {'totalResults': 233126, 'resultsPerPage': 50}   \n",
      "1          CA  {'totalResults': 1000000, 'resultsPerPage': 50}   \n",
      "2          CA   {'totalResults': 342977, 'resultsPerPage': 50}   \n",
      "3          CA  {'totalResults': 1000000, 'resultsPerPage': 50}   \n",
      "4          CA  {'totalResults': 1000000, 'resultsPerPage': 50}   \n",
      "5          CA  {'totalResults': 1000000, 'resultsPerPage': 50}   \n",
      "6          CA  {'totalResults': 1000000, 'resultsPerPage': 50}   \n",
      "7          CA  {'totalResults': 1000000, 'resultsPerPage': 50}   \n",
      "8          CA   {'totalResults': 593197, 'resultsPerPage': 50}   \n",
      "9         NaN                                              NaN   \n",
      "10        NaN                                              NaN   \n",
      "11        NaN                                              NaN   \n",
      "12        NaN                                              NaN   \n",
      "13        NaN                                              NaN   \n",
      "14        NaN                                              NaN   \n",
      "15        NaN                                              NaN   \n",
      "16        NaN                                              NaN   \n",
      "17        NaN                                              NaN   \n",
      "18        NaN                                              NaN   \n",
      "19        NaN                                              NaN   \n",
      "20        NaN                                              NaN   \n",
      "21        NaN                                              NaN   \n",
      "22        NaN                                              NaN   \n",
      "23        NaN                                              NaN   \n",
      "24        NaN                                              NaN   \n",
      "25        NaN                                              NaN   \n",
      "26        NaN                                              NaN   \n",
      "27        NaN                                              NaN   \n",
      "28        NaN                                              NaN   \n",
      "29        NaN                                              NaN   \n",
      "30        NaN                                              NaN   \n",
      "31        NaN                                              NaN   \n",
      "32        NaN                                              NaN   \n",
      "33        NaN                                              NaN   \n",
      "34        NaN                                              NaN   \n",
      "35        NaN                                              NaN   \n",
      "36        NaN                                              NaN   \n",
      "37        NaN                                              NaN   \n",
      "38        NaN                                              NaN   \n",
      "39        NaN                                              NaN   \n",
      "40        NaN                                              NaN   \n",
      "41        NaN                                              NaN   \n",
      "42        NaN                                              NaN   \n",
      "43        NaN                                              NaN   \n",
      "44        NaN                                              NaN   \n",
      "45        NaN                                              NaN   \n",
      "46        NaN                                              NaN   \n",
      "47        NaN                                              NaN   \n",
      "48        NaN                                              NaN   \n",
      "49        NaN                                              NaN   \n",
      "50        NaN                                              NaN   \n",
      "51        NaN                                              NaN   \n",
      "52        NaN                                              NaN   \n",
      "53        NaN                                              NaN   \n",
      "54        NaN                                              NaN   \n",
      "55        NaN                                              NaN   \n",
      "56        NaN                                              NaN   \n",
      "57        NaN                                              NaN   \n",
      "58        NaN                                              NaN   \n",
      "\n",
      "                                                items  \\\n",
      "0   [{'kind': 'youtube#searchResult', 'etag': 'Eq3...   \n",
      "1   [{'kind': 'youtube#searchResult', 'etag': 'Eq3...   \n",
      "2   [{'kind': 'youtube#searchResult', 'etag': 'Hz0...   \n",
      "3   [{'kind': 'youtube#searchResult', 'etag': 'P9X...   \n",
      "4   [{'kind': 'youtube#searchResult', 'etag': 'wge...   \n",
      "5   [{'kind': 'youtube#searchResult', 'etag': 'wge...   \n",
      "6   [{'kind': 'youtube#searchResult', 'etag': 'Eq3...   \n",
      "7   [{'kind': 'youtube#searchResult', 'etag': 'zbt...   \n",
      "8   [{'kind': 'youtube#searchResult', 'etag': 'Eq3...   \n",
      "9                                                 NaN   \n",
      "10                                                NaN   \n",
      "11                                                NaN   \n",
      "12                                                NaN   \n",
      "13                                                NaN   \n",
      "14                                                NaN   \n",
      "15                                                NaN   \n",
      "16                                                NaN   \n",
      "17                                                NaN   \n",
      "18                                                NaN   \n",
      "19                                                NaN   \n",
      "20                                                NaN   \n",
      "21                                                NaN   \n",
      "22                                                NaN   \n",
      "23                                                NaN   \n",
      "24                                                NaN   \n",
      "25                                                NaN   \n",
      "26                                                NaN   \n",
      "27                                                NaN   \n",
      "28                                                NaN   \n",
      "29                                                NaN   \n",
      "30                                                NaN   \n",
      "31                                                NaN   \n",
      "32                                                NaN   \n",
      "33                                                NaN   \n",
      "34                                                NaN   \n",
      "35                                                NaN   \n",
      "36                                                NaN   \n",
      "37                                                NaN   \n",
      "38                                                NaN   \n",
      "39                                                NaN   \n",
      "40                                                NaN   \n",
      "41                                                NaN   \n",
      "42                                                NaN   \n",
      "43                                                NaN   \n",
      "44                                                NaN   \n",
      "45                                                NaN   \n",
      "46                                                NaN   \n",
      "47                                                NaN   \n",
      "48                                                NaN   \n",
      "49                                                NaN   \n",
      "50                                                NaN   \n",
      "51                                                NaN   \n",
      "52                                                NaN   \n",
      "53                                                NaN   \n",
      "54                                                NaN   \n",
      "55                                                NaN   \n",
      "56                                                NaN   \n",
      "57                                                NaN   \n",
      "58                                                NaN   \n",
      "\n",
      "                                                Title      Views     Likes  \\\n",
      "0                                                 NaN        NaN       NaN   \n",
      "1                                                 NaN        NaN       NaN   \n",
      "2                                                 NaN        NaN       NaN   \n",
      "3                                                 NaN        NaN       NaN   \n",
      "4                                                 NaN        NaN       NaN   \n",
      "5                                                 NaN        NaN       NaN   \n",
      "6                                                 NaN        NaN       NaN   \n",
      "7                                                 NaN        NaN       NaN   \n",
      "8                                                 NaN        NaN       NaN   \n",
      "9   $1,000 Abercrombie Clothing Haul | Fall 2024 t...    97294.0    3542.0   \n",
      "10  HUGE Abercrombie & Fitch Try-On Haul | A&F Bla...     9533.0     535.0   \n",
      "11                                Abercrombie haul 🤍✨     2707.0     177.0   \n",
      "12  10 Best Items I Bought From Abercrombie under $50    45644.0    1215.0   \n",
      "13  MY $2700 BLACK FRIDAY HAUL... (ABERCROMBIE, NE...     9702.0     193.0   \n",
      "14  ABERCROMBIE & FITCH SUMMER TRY ON HAUL | A&F Haul     8898.0     232.0   \n",
      "15  Buy These Fall Abercrombie Clothes Before they...    29219.0     644.0   \n",
      "16  Abercrombie spring collection - it’s a flop! ☠...    54355.0    1799.0   \n",
      "17  Epic Men's Shopping Haul: Abercrombie, Hollist...    19704.0     620.0   \n",
      "18  ABERCROMBIE & FITCH TRY ON HAUL | First time s...      307.0      11.0   \n",
      "19  trying on clothes I bought from abercrombie (w...    75719.0    2524.0   \n",
      "20  Is Abercrombie Worth The Price?! Abercrombie S...     1293.0       0.0   \n",
      "21  Husband rates my abercrombie haul 🤭 #abercromb...     1351.0      31.0   \n",
      "22  abercrombie haul (i returned half of it!!) ⭐️f...      879.0      36.0   \n",
      "23  This one is for my short torso girlies🫶 #fyp #...     8688.0     260.0   \n",
      "24       Abercrombie tried to rebrand…but it’s a flop  3398249.0  185070.0   \n",
      "25              Abercrombie & FITCH HAUL| NIQUEALDABA     5093.0      48.0   \n",
      "26  The BEST midsize Abercrombie jeans on the mark...    10952.0     260.0   \n",
      "27       abercrombie haul ✨ #shopping #fashion #style       52.0       1.0   \n",
      "28  ABERCROMBIE ! Fall buy or bye 🛍️💃🏻💕#shortsootd...    12943.0     519.0   \n",
      "29  Shopping Haul! Banana ￼ Republic, Abercrombie,...      347.0       3.0   \n",
      "30  Early Black Friday shopping: Abercrombie & Ult...     1875.0      46.0   \n",
      "31  Abercrombie Haul #abercrombie #abercrombiehaul...     2176.0      55.0   \n",
      "32  Abercrombie Fall Try-On Haul | November  2024 ...     3123.0     179.0   \n",
      "33  Abercrombie & Aerie In-Store Fall to Winter Fa...     2362.0     231.0   \n",
      "34  HUGE SUMMER SHOPPING HAUL! (Abercrombie, Madew...     4762.0     314.0   \n",
      "35  largest Abercrombie store in the world #fashio...     8383.0     320.0   \n",
      "36  *HUGE* Fall Fashion Haul | J.Crew Madewell Abe...    31499.0    1648.0   \n",
      "37  Abercrombie & Fitch Haul + Collective Shopping...      312.0      24.0   \n",
      "38  unboxing abercrombie jeans 💕#unboxing #abercro...      544.0       0.0   \n",
      "39  Abercrombie haul #abercrombie #abercrombiehaul...      113.0       2.0   \n",
      "40  Bye or buy with us at Ross, Abercrombie, and f...     1991.0      47.0   \n",
      "41  Abercrombie Jeans Haul! Trying New Denim Style...     4357.0      97.0   \n",
      "42                                   Abercrombie Haul    14035.0     341.0   \n",
      "43  Shopping Haul Abercrombie & Fitch Part 2 Unbox...      680.0      26.0   \n",
      "44   ABERCROMBIE KIDS HAUL ⛅️ #shorts #haul #shopping     2961.0     111.0   \n",
      "45  Abercrombie Haul🛒🛍️ #shorts #abercrombie #aber...      958.0      30.0   \n",
      "46  Abercrombie haul 🛍️✨ #shorts #abercrombie #sho...     8394.0     294.0   \n",
      "47  Abercrombie & Fitch Shopping Haul Unboxing + T...       99.0       2.0   \n",
      "48  Part 1 Unveiling My Incredible Abercrombie Sho...      742.0      24.0   \n",
      "49                   NEW ABERCROMBIE STORES?? #shorts     3286.0     101.0   \n",
      "50  Abercrombie Summer Try-On Haul ☀️ Which look i...      243.0      11.0   \n",
      "51  Abercrombie And Fitch Store Shop With Me Sale ...     1176.0      21.0   \n",
      "52  NEW Abercrombie Holiday Winter Haul | shopping...     1054.0      13.0   \n",
      "53  Part 3 - Abercrombie Shopping Haul - Styling V...      324.0       6.0   \n",
      "54  #abercrombie #abercrombiehaul #jeans #jeansout...      238.0       3.0   \n",
      "55         MASSIVE ABERCROMBIE & FITCH HAUL | SIZE 14    10037.0     377.0   \n",
      "56  Abercrombie Jean haul #mom #abercrombie #haul ...      774.0      18.0   \n",
      "57  Shopping day with mom! Abercrombie try on 🤎 #a...      358.0      19.0   \n",
      "58  Abercrombie Summer Try on Haul | Easy Summer O...     2251.0      97.0   \n",
      "\n",
      "    Comments        Published Date     Video ID  \n",
      "0        NaN                   NaN          NaN  \n",
      "1        NaN                   NaN          NaN  \n",
      "2        NaN                   NaN          NaN  \n",
      "3        NaN                   NaN          NaN  \n",
      "4        NaN                   NaN          NaN  \n",
      "5        NaN                   NaN          NaN  \n",
      "6        NaN                   NaN          NaN  \n",
      "7        NaN                   NaN          NaN  \n",
      "8        NaN                   NaN          NaN  \n",
      "9      218.0  2024-09-29T19:48:06Z  tub3th2F3pA  \n",
      "10      74.0  2024-12-10T18:01:00Z  4P5gaPnTwvs  \n",
      "11       3.0  2024-09-24T00:50:26Z  zMvW88aRFys  \n",
      "12      84.0  2024-05-28T13:00:36Z  cjEuCHp3SEI  \n",
      "13       8.0  2024-11-30T04:03:49Z  LVC6I15zJxg  \n",
      "14      23.0  2024-07-17T17:00:40Z  oG0mmk9rfKY  \n",
      "15      80.0  2024-10-12T16:02:28Z  RGYAkq8f_jI  \n",
      "16      24.0  2023-04-21T13:55:02Z  jVTdfl1gooo  \n",
      "17      43.0  2024-08-16T15:00:50Z  msCo1cQkGao  \n",
      "18       0.0  2023-02-03T06:00:06Z  91-uQKJLiXc  \n",
      "19     494.0  2024-11-06T17:01:03Z  yRIIDLILjNg  \n",
      "20       2.0  2024-02-04T17:51:41Z  V5nSkqf6-Uo  \n",
      "21       1.0  2024-09-09T22:00:19Z  tOqaF3J6Gfo  \n",
      "22       0.0  2024-06-13T22:15:00Z  2t86h5yDoUs  \n",
      "23       2.0  2024-10-13T15:36:07Z  VDDsArH-1wo  \n",
      "24    3101.0  2023-10-11T14:00:12Z  WgDsRMUoUus  \n",
      "25      11.0  2020-05-22T21:53:56Z  skVdHPBLetA  \n",
      "26       1.0  2024-05-13T01:32:47Z  J73qOgu2XnU  \n",
      "27       1.0  2023-09-01T14:00:29Z  jYEtFXHpOC8  \n",
      "28       3.0  2024-09-13T12:56:42Z  aO0gRjU-fqg  \n",
      "29       0.0  2022-07-22T15:24:05Z  7efzY5Juvic  \n",
      "30       0.0  2022-11-24T19:52:29Z  nD9po27RQy8  \n",
      "31       1.0  2023-02-05T00:20:53Z  XGG7DRRrTos  \n",
      "32      16.0  2024-10-27T20:00:11Z  YOP3uXDNnXQ  \n",
      "33       7.0  2024-10-27T17:38:27Z  X-z7UvLmAsA  \n",
      "34      25.0  2023-06-14T15:03:34Z  sfpWOBQyS44  \n",
      "35       2.0  2023-08-02T19:30:43Z  VbHL_bxlowE  \n",
      "36      89.0  2024-10-30T21:00:27Z  i1sh_AA4e2g  \n",
      "37       4.0  2022-02-27T17:30:02Z  cl-xedltcjo  \n",
      "38       0.0  2024-07-15T22:45:54Z  7VbkDNJPa0g  \n",
      "39       0.0  2022-04-12T13:40:51Z  rsNPegGYowg  \n",
      "40       3.0  2024-07-23T05:44:48Z  BwnZcXBgw1c  \n",
      "41       2.0  2024-10-17T15:00:48Z  ednrEDi5ZHk  \n",
      "42       4.0  2023-06-15T13:06:31Z  DGuOroZooIo  \n",
      "43       2.0  2022-01-06T20:55:40Z  g5TbkfMrjBs  \n",
      "44       2.0  2024-11-26T18:29:37Z  MM-_wwfEhwc  \n",
      "45       0.0  2024-08-02T18:51:35Z  9je_wH-wrlQ  \n",
      "46       1.0  2023-01-20T18:30:24Z  QbJWuabjodM  \n",
      "47       0.0  2020-07-14T01:07:21Z  QvsrMyPOkz0  \n",
      "48       0.0  2023-07-18T12:00:04Z  57YBxUyiNII  \n",
      "49       3.0  2024-02-01T19:30:04Z  v6M-J-XFAM4  \n",
      "50       2.0  2023-05-21T22:57:09Z  5neBMRGi4A8  \n",
      "51      24.0  2020-07-09T01:00:00Z  2biRVTfd_zM  \n",
      "52       0.0  2024-11-26T21:00:38Z  sL033MXArNg  \n",
      "53       0.0  2023-07-18T12:00:23Z  ZRz001jbQic  \n",
      "54       0.0  2023-04-28T20:18:28Z  S2F2OrAPSpQ  \n",
      "55      28.0  2024-03-30T21:30:03Z  LSU-g3V1Qo0  \n",
      "56       2.0  2024-09-06T12:52:12Z  XtoFRtm7kYc  \n",
      "57       4.0  2023-09-21T00:04:00Z  UHarAkM_8TE  \n",
      "58       9.0  2024-07-13T18:00:18Z  Ypjmnhzy1TM  \n"
     ]
    }
   ],
   "source": [
    "\n",
    "# Store the data in a DataFrame\n",
    "df = pd.DataFrame(video_data)\n",
    "\n",
    "# Print the refined dataset\n",
    "print(df)\n",
    "\n",
    "# Save the filtered data for analysis\n",
    "df.to_csv(\"youtube_data2.csv\", index=False)"
   ]
  },
  {
   "cell_type": "code",
   "execution_count": 43,
   "metadata": {},
   "outputs": [
    {
     "data": {
      "text/plain": [
       "(59, 12)"
      ]
     },
     "execution_count": 43,
     "metadata": {},
     "output_type": "execute_result"
    }
   ],
   "source": [
    "df.shape"
   ]
  },
  {
   "cell_type": "code",
   "execution_count": 44,
   "metadata": {},
   "outputs": [],
   "source": [
    "import matplotlib.pylab as plt\n",
    "import seaborn as sns"
   ]
  },
  {
   "cell_type": "code",
   "execution_count": null,
   "metadata": {},
   "outputs": [
    {
     "data": {
      "text/plain": [
       "<matplotlib.collections.PathCollection at 0x1ba6ae44bf0>"
      ]
     },
     "execution_count": 45,
     "metadata": {},
     "output_type": "execute_result"
    },
    {
     "data": {
      "image/png": "[encoded data removed]",
      "text/plain": [
       "<Figure size 640x480 with 1 Axes>"
      ]
     },
     "metadata": {},
     "output_type": "display_data"
    }
   ],
   "source": [
    "plt.scatter(x = \"Views\" , y = \"Likes\" , data=df )"
   ]
  },
  {
   "cell_type": "code",
   "execution_count": null,
   "metadata": {},
   "outputs": [
    {
     "data": {
      "image/png": "[encoded data removed]",
      "text/plain": [
       "<Figure size 1000x600 with 1 Axes>"
      ]
     },
     "metadata": {},
     "output_type": "display_data"
    }
   ],
   "source": [
    "plt.figure(figsize=(10, 6))  # Adjust figure size for better visualization (optional)\n",
    "plt.scatter(df['Likes'], df['Comments'], alpha=0.5)  # 'alpha' adds transparency\n",
    "\n",
    "#Add labels and title\n",
    "plt.xlabel('Number of Likes')\n",
    "plt.ylabel('Number of Comments')\n",
    "plt.title('Scatter Plot of Comments vs. Likes')\n",
    "\n",
    "#Add grid lines for better readability (optional)\n",
    "plt.grid(True)\n",
    "\n",
    "#Show the plot\n",
    "plt.show()"
   ]
  },
  {
   "cell_type": "markdown",
   "metadata": {},
   "source": []
  },
  {
   "cell_type": "code",
   "execution_count": null,
   "metadata": {},
   "outputs": [
    {
     "data": {
      "image/png": "[encoded data removed]",
      "text/plain": [
       "<Figure size 1000x600 with 1 Axes>"
      ]
     },
     "metadata": {},
     "output_type": "display_data"
    },
    {
     "data": {
      "image/png": "[encoded data removed]",
      "text/plain": [
       "<Figure size 1000x600 with 1 Axes>"
      ]
     },
     "metadata": {},
     "output_type": "display_data"
    }
   ],
   "source": [
    "plt.figure(figsize=(10, 6))\n",
    "plt.hist(df['Views'], bins=50, color='skyblue', edgecolor='black')  # Adjust 'bins' as needed\n",
    "plt.xlabel('Number of Views')\n",
    "plt.ylabel('Comments')\n",
    "plt.title('Distribution of Views')\n",
    "plt.grid(axis='y', alpha=0.75)\n",
    "plt.show()\n",
    "\n",
    "#Histogram of Likes\n",
    "plt.figure(figsize=(10, 6))\n",
    "plt.hist(df['Likes'], bins=50, color='lightgreen', edgecolor='black')  # Adjust 'bins' as needed\n",
    "plt.xlabel('Number of Likes')\n",
    "plt.ylabel('Frequency')\n",
    "plt.title('Distribution of Likes')\n",
    "plt.grid(axis='y', alpha=0.75)\n",
    "plt.show()"
   ]
  },
  {
   "cell_type": "code",
   "execution_count": 48,
   "metadata": {},
   "outputs": [
    {
     "name": "stdout",
     "output_type": "stream",
     "text": [
      "  Published Date   Views  Likes  Comments\n",
      "0     2020-05-22  5093.0   48.0      11.0\n",
      "1     2020-07-09  1176.0   21.0      24.0\n",
      "2     2020-07-14    99.0    2.0       0.0\n",
      "3     2022-01-06   680.0   26.0       2.0\n",
      "4     2022-02-27   312.0   24.0       4.0\n"
     ]
    }
   ],
   "source": [
    "\n",
    "\n",
    "\n",
    "# Convert 'Published Date' to datetime and keep only the date\n",
    "df[\"Published Date\"] = pd.to_datetime(df[\"Published Date\"]).dt.date\n",
    "\n",
    "# Aggregate YouTube data by date (sum Views, Likes, and Comments for the same date)\n",
    "youtube_summary = df.groupby(\"Published Date\").agg({\n",
    "    \"Views\": \"sum\",\n",
    "    \"Likes\": \"sum\",\n",
    "    \"Comments\": \"sum\"\n",
    "}).reset_index()\n",
    "\n",
    "# Convert back to datetime for merging\n",
    "youtube_summary[\"Published Date\"] = pd.to_datetime(youtube_summary[\"Published Date\"])\n",
    "\n",
    "# Display processed YouTube dataset\n",
    "print(youtube_summary.head())\n"
   ]
  },
  {
   "cell_type": "code",
   "execution_count": 49,
   "metadata": {},
   "outputs": [
    {
     "data": {
      "text/plain": [
       "(47, 4)"
      ]
     },
     "execution_count": 49,
     "metadata": {},
     "output_type": "execute_result"
    }
   ],
   "source": [
    "youtube_summary.shape"
   ]
  }
 ],
 "metadata": {
  "kernelspec": {
   "display_name": "base",
   "language": "python",
   "name": "python3"
  },
  "language_info": {
   "codemirror_mode": {
    "name": "ipython",
    "version": 3
   },
   "file_extension": ".py",
   "mimetype": "text/x-python",
   "name": "python",
   "nbconvert_exporter": "python",
   "pygments_lexer": "ipython3",
   "version": "3.12.7"
  }
 },
 "nbformat": 4,
 "nbformat_minor": 2
}
